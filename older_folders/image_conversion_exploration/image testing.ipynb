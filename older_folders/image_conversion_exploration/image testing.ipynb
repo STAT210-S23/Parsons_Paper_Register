{
 "cells": [
  {
   "cell_type": "code",
   "execution_count": 1,
   "id": "1fa67a9a",
   "metadata": {},
   "outputs": [],
   "source": [
    "import os\n",
    "import rawpy\n",
    "import imageio\n",
    "from PIL import Image"
   ]
  },
  {
   "cell_type": "code",
   "execution_count": 2,
   "id": "0a4c7144",
   "metadata": {},
   "outputs": [],
   "source": [
    "files = os.listdir(\"raw\")"
   ]
  },
  {
   "cell_type": "code",
   "execution_count": 3,
   "id": "002bd1f0",
   "metadata": {},
   "outputs": [],
   "source": [
    "names = []\n",
    "for i in range(len(files)):\n",
    "    names.append(files[i].split(\".\")[0])"
   ]
  },
  {
   "cell_type": "code",
   "execution_count": 4,
   "id": "f651fe58",
   "metadata": {},
   "outputs": [
    {
     "name": "stdout",
     "output_type": "stream",
     "text": [
      "raw/001.CR2\n",
      "raw/002.CR2\n",
      "raw/003.CR2\n",
      "raw/004.CR2\n"
     ]
    }
   ],
   "source": [
    "for i in range(len(names)):\n",
    "    path = \"raw/\" + files[i]\n",
    "    print(path)\n",
    "    output = \"tiff/\" + names[i] +\".tiff\"\n",
    "    output2 = \"jpg/\" + names[i] +\".jpg\"\n",
    "    with rawpy.imread(path) as raw:\n",
    "        rgb = raw.postprocess(use_camera_wb=True)\n",
    "    imageio.imsave(output, rgb)\n",
    "    imageio.imsave(output2, rgb)\n",
    "    if int(names[i]) % 2 != 0: \n",
    "        image = Image.open(output)\n",
    "        rotated = image.rotate(90, resample=Image.BICUBIC, expand=True)\n",
    "        rotated.save(\"tiff/test\" + names[i] + \".tiff\")\n",
    "        image = Image.open(output2)\n",
    "        rotated = image.rotate(180, resample=Image.BICUBIC, expand=True)\n",
    "        rotated.save(\"jpg/test\" + names[i] + \".jpg\")"
   ]
  },
  {
   "cell_type": "code",
   "execution_count": 5,
   "id": "19602c7d",
   "metadata": {},
   "outputs": [],
   "source": [
    "for i in range(len(names)):\n",
    "    path = \"raw/\" + files[i]\n",
    "    output = \"tiff/\" + names[i] +\"_new.tiff\"\n",
    "    output2 = \"jpg/\" + names[i] +\"_new.jpg\"\n",
    "    with rawpy.imread(path) as raw:\n",
    "        # raises rawpy.LibRawNoThumbnailError if thumbnail missing\n",
    "        # raises rawpy.LibRawUnsupportedThumbnailError if unsupported format\n",
    "        thumb = raw.extract_thumb()\n",
    "    if thumb.format == rawpy.ThumbFormat.JPEG:\n",
    "        # thumb.data is already in JPEG format, save as-is\n",
    "        with open(output, 'wb') as f:\n",
    "            f.write(thumb.data)\n",
    "    elif thumb.format == rawpy.ThumbFormat.BITMAP:\n",
    "        # thumb.data is an RGB numpy array, convert with imageio\n",
    "        imageio.imsave(output, thumb.data)"
   ]
  }
 ],
 "metadata": {
  "kernelspec": {
   "display_name": "Python 3 (ipykernel)",
   "language": "python",
   "name": "python3"
  },
  "language_info": {
   "codemirror_mode": {
    "name": "ipython",
    "version": 3
   },
   "file_extension": ".py",
   "mimetype": "text/x-python",
   "name": "python",
   "nbconvert_exporter": "python",
   "pygments_lexer": "ipython3",
   "version": "3.9.12"
  }
 },
 "nbformat": 4,
 "nbformat_minor": 5
}
